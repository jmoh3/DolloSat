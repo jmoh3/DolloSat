{
 "cells": [
  {
   "cell_type": "code",
   "execution_count": 7,
   "metadata": {},
   "outputs": [],
   "source": [
    "forbidden_matrices = ['100111', '100112', \n",
    "                     '100211', '100212',\n",
    "                     '100121', '100122',\n",
    "                     '100221', '100222',\n",
    "                     '200111', '200112',\n",
    "                     '200211', '200212',\n",
    "                     '200121', '200122',\n",
    "                     '200221', '200222',\n",
    "                     '110212', '110222',\n",
    "                     '210212', '210222',\n",
    "                     '201121', '201122',\n",
    "                     '201221', '201222',\n",
    "                     '211222']"
   ]
  },
  {
   "cell_type": "code",
   "execution_count": 8,
   "metadata": {},
   "outputs": [],
   "source": [
    "forbidden_table = {}\n",
    "\n",
    "for matrix in forbidden_matrices:\n",
    "    forbidden_table[matrix] = [[int(matrix[j*2+i]) for i in range(2)] for j in range(3)]"
   ]
  },
  {
   "cell_type": "code",
   "execution_count": 10,
   "metadata": {},
   "outputs": [],
   "source": [
    "is_one = [['a', 'b'],\n",
    "          ['c', 'd'],\n",
    "          ['e', 'f']]\n",
    "\n",
    "is_two = [['g', 'h'],\n",
    "          ['i', 'j'],\n",
    "          ['k', 'l']]"
   ]
  },
  {
   "cell_type": "code",
   "execution_count": 14,
   "metadata": {},
   "outputs": [],
   "source": [
    "forbidden_clauses = {}\n",
    "\n",
    "for matrix in forbidden_matrices:\n",
    "    int_matrix = forbidden_table[matrix]\n",
    "    clause = ''\n",
    "    \n",
    "    for i in range(3):\n",
    "        for j in range(2):\n",
    "            if int_matrix[i][j] == 1:\n",
    "                clause += f'-{is_one[i][j]} '\n",
    "            if int_matrix[i][j] == 2:\n",
    "                clause += f'-{is_two[i][j]} '\n",
    "            if int_matrix[i][j] == 0:\n",
    "                clause += f'{is_one[i][j]} {is_two[i][j]} '\n",
    "    \n",
    "    clause += '0'\n",
    "    forbidden_clauses[matrix] = clause"
   ]
  },
  {
   "cell_type": "code",
   "execution_count": 15,
   "metadata": {},
   "outputs": [
    {
     "data": {
      "text/plain": [
       "{'100111': '-a b h c i -d -e -f 0',\n",
       " '100112': '-a b h c i -d -e -l 0',\n",
       " '100211': '-a b h c i -j -e -f 0',\n",
       " '100212': '-a b h c i -j -e -l 0',\n",
       " '100121': '-a b h c i -d -k -f 0',\n",
       " '100122': '-a b h c i -d -k -l 0',\n",
       " '100221': '-a b h c i -j -k -f 0',\n",
       " '100222': '-a b h c i -j -k -l 0',\n",
       " '200111': '-g b h c i -d -e -f 0',\n",
       " '200112': '-g b h c i -d -e -l 0',\n",
       " '200211': '-g b h c i -j -e -f 0',\n",
       " '200212': '-g b h c i -j -e -l 0',\n",
       " '200121': '-g b h c i -d -k -f 0',\n",
       " '200122': '-g b h c i -d -k -l 0',\n",
       " '200221': '-g b h c i -j -k -f 0',\n",
       " '200222': '-g b h c i -j -k -l 0',\n",
       " '110212': '-a -b c i -j -e -l 0',\n",
       " '110222': '-a -b c i -j -k -l 0',\n",
       " '210212': '-g -b c i -j -e -l 0',\n",
       " '210222': '-g -b c i -j -k -l 0',\n",
       " '201121': '-g b h -c -d -k -f 0',\n",
       " '201122': '-g b h -c -d -k -l 0',\n",
       " '201221': '-g b h -c -j -k -f 0',\n",
       " '201222': '-g b h -c -j -k -l 0',\n",
       " '211222': '-g -b -c -j -k -l 0'}"
      ]
     },
     "execution_count": 15,
     "metadata": {},
     "output_type": "execute_result"
    }
   ],
   "source": [
    "forbidden_clauses"
   ]
  },
  {
   "cell_type": "code",
   "execution_count": 16,
   "metadata": {},
   "outputs": [
    {
     "data": {
      "text/plain": [
       "'-a b h c i -j -e -f 0'"
      ]
     },
     "execution_count": 16,
     "metadata": {},
     "output_type": "execute_result"
    }
   ],
   "source": [
    "forbidden_clauses['100211']"
   ]
  },
  {
   "cell_type": "code",
   "execution_count": 17,
   "metadata": {},
   "outputs": [],
   "source": [
    "lines = []\n",
    "\n",
    "for forbidden in forbidden_clauses.keys():\n",
    "    lines.append(forbidden + '\\n')\n",
    "    lines.append(forbidden_clauses[forbidden] + '\\n')"
   ]
  },
  {
   "cell_type": "code",
   "execution_count": 19,
   "metadata": {},
   "outputs": [],
   "source": [
    "with open('forbidden_clauses.txt', 'w') as f:\n",
    "    f.writelines(lines)"
   ]
  }
 ],
 "metadata": {
  "kernelspec": {
   "display_name": "Python 3",
   "language": "python",
   "name": "python3"
  },
  "language_info": {
   "codemirror_mode": {
    "name": "ipython",
    "version": 3
   },
   "file_extension": ".py",
   "mimetype": "text/x-python",
   "name": "python",
   "nbconvert_exporter": "python",
   "pygments_lexer": "ipython3",
   "version": "3.7.0"
  }
 },
 "nbformat": 4,
 "nbformat_minor": 2
}
